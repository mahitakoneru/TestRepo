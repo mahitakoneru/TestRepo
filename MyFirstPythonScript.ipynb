{
 "cells": [
  {
   "cell_type": "code",
   "execution_count": 3,
   "id": "937b8c79",
   "metadata": {},
   "outputs": [
    {
     "data": {
      "text/plain": [
       "4"
      ]
     },
     "execution_count": 3,
     "metadata": {},
     "output_type": "execute_result"
    }
   ],
   "source": [
    "2 + 2\n"
   ]
  },
  {
   "cell_type": "code",
   "execution_count": 4,
   "id": "43930d43",
   "metadata": {},
   "outputs": [
    {
     "data": {
      "text/plain": [
       "2"
      ]
     },
     "execution_count": 4,
     "metadata": {},
     "output_type": "execute_result"
    }
   ],
   "source": [
    "5 - 3"
   ]
  },
  {
   "cell_type": "code",
   "execution_count": 2,
   "id": "5cc6e241",
   "metadata": {},
   "outputs": [
    {
     "data": {
      "text/plain": [
       "17"
      ]
     },
     "execution_count": 2,
     "metadata": {},
     "output_type": "execute_result"
    }
   ],
   "source": [
    "#addition\n",
    "10 + 4 + 3"
   ]
  },
  {
   "cell_type": "code",
   "execution_count": 3,
   "id": "69841efd",
   "metadata": {},
   "outputs": [
    {
     "data": {
      "text/plain": [
       "67.5"
      ]
     },
     "execution_count": 3,
     "metadata": {},
     "output_type": "execute_result"
    }
   ],
   "source": [
    "#adding decimal values\n",
    "10.5 + 20.5 + 36.5"
   ]
  },
  {
   "cell_type": "code",
   "execution_count": 4,
   "id": "e0777c16",
   "metadata": {},
   "outputs": [
    {
     "data": {
      "text/plain": [
       "7"
      ]
     },
     "execution_count": 4,
     "metadata": {},
     "output_type": "execute_result"
    }
   ],
   "source": [
    "#subtraction\n",
    "12-3-2"
   ]
  },
  {
   "cell_type": "code",
   "execution_count": 6,
   "id": "078b04b2",
   "metadata": {},
   "outputs": [
    {
     "data": {
      "text/plain": [
       "5"
      ]
     },
     "execution_count": 6,
     "metadata": {},
     "output_type": "execute_result"
    }
   ],
   "source": [
    "#Bodmas\n",
    "(10+2) - (5+2)"
   ]
  },
  {
   "cell_type": "code",
   "execution_count": 7,
   "id": "d8390354",
   "metadata": {},
   "outputs": [
    {
     "data": {
      "text/plain": [
       "6"
      ]
     },
     "execution_count": 7,
     "metadata": {},
     "output_type": "execute_result"
    }
   ],
   "source": [
    "#multiplication\n",
    "2 * 3"
   ]
  },
  {
   "cell_type": "code",
   "execution_count": 8,
   "id": "d3aa2195",
   "metadata": {},
   "outputs": [
    {
     "data": {
      "text/plain": [
       "0.3333333333333333"
      ]
     },
     "execution_count": 8,
     "metadata": {},
     "output_type": "execute_result"
    }
   ],
   "source": [
    "#division\n",
    "1/3"
   ]
  },
  {
   "cell_type": "code",
   "execution_count": 9,
   "id": "8e173881",
   "metadata": {},
   "outputs": [
    {
     "data": {
      "text/plain": [
       "2.0"
      ]
     },
     "execution_count": 9,
     "metadata": {},
     "output_type": "execute_result"
    }
   ],
   "source": [
    "8/4\n",
    "# in python numbers stored as floating point number"
   ]
  },
  {
   "cell_type": "code",
   "execution_count": 10,
   "id": "2a8abaef",
   "metadata": {},
   "outputs": [
    {
     "data": {
      "text/plain": [
       "2"
      ]
     },
     "execution_count": 10,
     "metadata": {},
     "output_type": "execute_result"
    }
   ],
   "source": [
    "#floor division\n",
    "11//4\n",
    "#ignore the decimal dislay the lower near number"
   ]
  },
  {
   "cell_type": "code",
   "execution_count": 12,
   "id": "4c6af814",
   "metadata": {},
   "outputs": [
    {
     "data": {
      "text/plain": [
       "1"
      ]
     },
     "execution_count": 12,
     "metadata": {},
     "output_type": "execute_result"
    }
   ],
   "source": [
    "#modelo(remainder)\n",
    "7%3"
   ]
  },
  {
   "cell_type": "code",
   "execution_count": 13,
   "id": "4eeb6bd8",
   "metadata": {},
   "outputs": [
    {
     "data": {
      "text/plain": [
       "4.3"
      ]
     },
     "execution_count": 13,
     "metadata": {},
     "output_type": "execute_result"
    }
   ],
   "source": [
    "#can to addition of 2 different number\n",
    "2 + 2.3"
   ]
  },
  {
   "cell_type": "code",
   "execution_count": 14,
   "id": "ef0c6af9",
   "metadata": {},
   "outputs": [
    {
     "data": {
      "text/plain": [
       "64"
      ]
     },
     "execution_count": 14,
     "metadata": {},
     "output_type": "execute_result"
    }
   ],
   "source": [
    "#power operator\n",
    "4 ** 3"
   ]
  },
  {
   "cell_type": "code",
   "execution_count": 15,
   "id": "e666112e",
   "metadata": {},
   "outputs": [
    {
     "data": {
      "text/plain": [
       "3.7416573867739413"
      ]
     },
     "execution_count": 15,
     "metadata": {},
     "output_type": "execute_result"
    }
   ],
   "source": [
    "#square root\n",
    "14 ** (1/2)"
   ]
  },
  {
   "cell_type": "code",
   "execution_count": 16,
   "id": "690251c5",
   "metadata": {},
   "outputs": [
    {
     "data": {
      "text/plain": [
       "4.3267487109222245"
      ]
     },
     "execution_count": 16,
     "metadata": {},
     "output_type": "execute_result"
    }
   ],
   "source": [
    "#cube root\n",
    "81 ** (1/3)"
   ]
  },
  {
   "cell_type": "code",
   "execution_count": 17,
   "id": "7612cb41",
   "metadata": {},
   "outputs": [
    {
     "name": "stdout",
     "output_type": "stream",
     "text": [
      "60000\n"
     ]
    }
   ],
   "source": [
    "words_page = 100\n",
    "pages_book = 600\n",
    "total_words = words_page * pages_book\n",
    "print(total_words) "
   ]
  },
  {
   "cell_type": "code",
   "execution_count": null,
   "id": "108309ac",
   "metadata": {},
   "outputs": [],
   "source": []
  }
 ],
 "metadata": {
  "kernelspec": {
   "display_name": "Python 3 (ipykernel)",
   "language": "python",
   "name": "python3"
  },
  "language_info": {
   "codemirror_mode": {
    "name": "ipython",
    "version": 3
   },
   "file_extension": ".py",
   "mimetype": "text/x-python",
   "name": "python",
   "nbconvert_exporter": "python",
   "pygments_lexer": "ipython3",
   "version": "3.9.13"
  }
 },
 "nbformat": 4,
 "nbformat_minor": 5
}
